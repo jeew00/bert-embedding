{
 "cells": [
  {
   "cell_type": "code",
   "execution_count": null,
   "metadata": {},
   "outputs": [],
   "source": [
    "#################################################################\n",
    "#################################################################\n",
    "#### 5 Folds dataset v2 -- Baseline                          ####\n",
    "#### Random state = 0                                        ####\n",
    "####           Fold 1 Accuracy: 60.54567022538553            ####\n",
    "####           Fold 2 Accuracy: 61.05113299323763            ####\n",
    "####           Fold 3 Accuracy: 61.72736979475621            ####\n",
    "####           Fold 4 Accuracy: 60.32744097757741            ####\n",
    "####           Fold 5 Accuracy: 60.94435876141892            ####\n",
    "####           Average: 60.91919455047514                    ####\n",
    "#################################################################\n",
    "#################################################################"
   ]
  },
  {
   "cell_type": "code",
   "execution_count": 1,
   "metadata": {},
   "outputs": [],
   "source": [
    "import pandas as pd\n",
    "import numpy as np\n",
    "from tqdm import tqdm\n",
    "from sklearn.preprocessing import normalize\n",
    "from sklearn.model_selection import KFold\n",
    "import os\n",
    "import stringdist as sd\n",
    "import argparse"
   ]
  },
  {
   "cell_type": "code",
   "execution_count": 2,
   "metadata": {},
   "outputs": [],
   "source": [
    "random_state = 0"
   ]
  },
  {
   "cell_type": "code",
   "execution_count": 3,
   "metadata": {},
   "outputs": [],
   "source": [
    "root = os.getcwd()\n",
    "dataset_path = os.path.join(root, 'datasets', 'botnoi-api', 'botnoi_api_cleaned_v2.xlsx')\n",
    "dataset = pd.read_excel(dataset_path)"
   ]
  },
  {
   "cell_type": "code",
   "execution_count": 4,
   "metadata": {},
   "outputs": [],
   "source": [
    "################ change embed numpy array below ################\n",
    "np_array_fname = 'thai-ckpt-30000.npy'\n",
    "################################################################\n",
    "pre_embed_np_array_path = os.path.join(root, 'datasets', 'botnoi-api', np_array_fname)\n",
    "dataset['bert'] = np.load(pre_embed_np_array_path).tolist()"
   ]
  },
  {
   "cell_type": "code",
   "execution_count": 5,
   "metadata": {},
   "outputs": [],
   "source": [
    "def compute_accuracy(y_pred, y_true):\n",
    "    correct = 0\n",
    "    for pred_topic, test_topic in zip(y_pred, y_true):\n",
    "        if pred_topic == test_topic:\n",
    "            correct += 1\n",
    "    return correct / len(y_pred)"
   ]
  },
  {
   "cell_type": "code",
   "execution_count": 7,
   "metadata": {},
   "outputs": [
    {
     "name": "stdout",
     "output_type": "stream",
     "text": [
      "Evaluating bert thai-ckpt-30000.npy!\n",
      "Fold #1\n"
     ]
    },
    {
     "name": "stderr",
     "output_type": "stream",
     "text": [
      "100%|██████████| 8430/8430 [01:10<00:00, 119.97it/s]\n"
     ]
    },
    {
     "name": "stdout",
     "output_type": "stream",
     "text": [
      "Fold 1 accuracy: 59.56%\n",
      "Fold #2\n"
     ]
    },
    {
     "name": "stderr",
     "output_type": "stream",
     "text": [
      "100%|██████████| 8429/8429 [01:09<00:00, 120.85it/s]\n"
     ]
    },
    {
     "name": "stdout",
     "output_type": "stream",
     "text": [
      "Fold 2 accuracy: 59.67%\n",
      "Fold #3\n"
     ]
    },
    {
     "name": "stderr",
     "output_type": "stream",
     "text": [
      "100%|██████████| 8429/8429 [01:10<00:00, 119.41it/s]\n"
     ]
    },
    {
     "name": "stdout",
     "output_type": "stream",
     "text": [
      "Fold 3 accuracy: 61.02%\n",
      "Fold #4\n"
     ]
    },
    {
     "name": "stderr",
     "output_type": "stream",
     "text": [
      "100%|██████████| 8429/8429 [01:12<00:00, 116.29it/s]\n"
     ]
    },
    {
     "name": "stdout",
     "output_type": "stream",
     "text": [
      "Fold 4 accuracy: 59.60%\n",
      "Fold #5\n"
     ]
    },
    {
     "name": "stderr",
     "output_type": "stream",
     "text": [
      "100%|██████████| 8429/8429 [01:09<00:00, 121.52it/s]"
     ]
    },
    {
     "name": "stdout",
     "output_type": "stream",
     "text": [
      "Fold 5 accuracy: 59.98%\n",
      "thai-ckpt-30000.npy\n",
      "5 fold accuracy: 59.97%\n"
     ]
    },
    {
     "name": "stderr",
     "output_type": "stream",
     "text": [
      "\n"
     ]
    }
   ],
   "source": [
    "def eval_bert(k):\n",
    "    print('Evaluating bert {}!'.format(np_array_fname))\n",
    "    kf = KFold(n_splits=k, shuffle=True, random_state=random_state)\n",
    "    accs = []\n",
    "    fold_num = 1\n",
    "    for train_indices, test_indices in kf.split(dataset):\n",
    "        print('Fold #{}'.format(fold_num))\n",
    "        train_df = dataset.iloc[train_indices, :]\n",
    "        train_keywords = train_df['Keyword'].values.tolist()\n",
    "        train_topics = train_df['Topic'].values.tolist()\n",
    "        train_l2_embeds = normalize(np.vstack(train_df['bert'].values))\n",
    "        \n",
    "        test_df = dataset.iloc[test_indices, :]\n",
    "        test_keywords = test_df['Keyword'].values.tolist()\n",
    "        test_topics = test_df['Topic'].values.tolist()\n",
    "        test_l2_embeds = normalize(np.vstack(test_df['bert'].values))\n",
    "\n",
    "        pred_topics = []\n",
    "        for test_l2_embed in tqdm(test_l2_embeds):\n",
    "            closest_idx = np.argmax(np.dot(train_l2_embeds, test_l2_embed.T))\n",
    "            pred_topic = train_topics[closest_idx]\n",
    "            pred_topics.append(pred_topic)\n",
    "\n",
    "        acc = compute_accuracy(pred_topics, test_topics)\n",
    "        print('Fold {} accuracy: {:.2%}'.format(fold_num, acc))\n",
    "        accs.append(acc)\n",
    "        fold_num += 1\n",
    "    avg_kfold_acc = np.mean(accs)\n",
    "    print('{} fold accuracy: {:.2%}'.format(fold_num - 1, avg_kfold_acc))\n",
    "#     return avg_kfold_acc\n",
    "\n",
    "\n",
    "eval_bert(k=5)"
   ]
  },
  {
   "cell_type": "code",
   "execution_count": null,
   "metadata": {},
   "outputs": [],
   "source": [
    "def eval_kfold_editdist(k):\n",
    "    print('Evaluating Edit Distance!')\n",
    "    kf = KFold(n_splits=k, shuffle=True, random_state=random_state)\n",
    "    accs = []\n",
    "    fold_num = 1\n",
    "    for train_indices, test_indices in kf.split(dataset):\n",
    "\n",
    "        train_df = dataset.iloc[train_indices, :]\n",
    "        train_keywords = train_df['Keyword'].values.tolist()\n",
    "        train_topics = train_df['Topic'].values.tolist()\n",
    "\n",
    "        test_df = dataset.iloc[test_indices, :]\n",
    "        test_keywords = test_df['Keyword'].values.tolist()\n",
    "        test_topics = test_df['Topic'].values.tolist()\n",
    "\n",
    "        pred_topics = []\n",
    "        for i, test_keyword in enumerate(test_keywords):\n",
    "            distances = [sd.levenshtein(str(train_keyword), str(test_keyword)) for train_keyword in train_keywords]\n",
    "            min_distance_idx = np.argmin(distances)\n",
    "            pred_topic = train_topics[min_distance_idx]\n",
    "            pred_topics.append(pred_topic)\n",
    "        \n",
    "        acc = compute_accuracy(pred_topics, test_topics)\n",
    "        print('Fold {} accuracy: {}'.format(fold_num, acc))\n",
    "        accs.append(acc)\n",
    "        fold_num += 1\n",
    "    avg_kfold_acc = np.mean(accs)\n",
    "    print('Average {} fold accuracy: {}'.format(fold_num, avg_kfold_acc))\n",
    "#     return avg_kfold_acc"
   ]
  },
  {
   "cell_type": "code",
   "execution_count": null,
   "metadata": {},
   "outputs": [],
   "source": []
  }
 ],
 "metadata": {
  "kernelspec": {
   "display_name": "Python 3",
   "language": "python",
   "name": "python3"
  },
  "language_info": {
   "codemirror_mode": {
    "name": "ipython",
    "version": 3
   },
   "file_extension": ".py",
   "mimetype": "text/x-python",
   "name": "python",
   "nbconvert_exporter": "python",
   "pygments_lexer": "ipython3",
   "version": "3.6.7"
  }
 },
 "nbformat": 4,
 "nbformat_minor": 2
}
